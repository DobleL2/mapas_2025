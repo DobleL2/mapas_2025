{
 "cells": [
  {
   "cell_type": "code",
   "execution_count": 2,
   "metadata": {},
   "outputs": [
    {
     "name": "stdout",
     "output_type": "stream",
     "text": [
      "Contraseña hasheada: $2b$12$5/jWjT1yrcF0TgG7PlmWSeGcGW8.95AsWimtJrTCUu09Zd3ubeMAO\n"
     ]
    }
   ],
   "source": [
    "import bcrypt\n",
    "\n",
    "def generate_hashed_password(password: str) -> str:\n",
    "    \"\"\"Genera un hash seguro de la contraseña usando bcrypt.\"\"\"\n",
    "    salt = bcrypt.gensalt()\n",
    "    hashed_password = bcrypt.hashpw(password.encode('utf-8'), salt)\n",
    "    return hashed_password.decode('utf-8')\n",
    "\n",
    "# Ejemplo de uso\n",
    "password = \"mapas2025\"\n",
    "hashed_password = generate_hashed_password(password)\n",
    "print(f\"Contraseña hasheada: {hashed_password}\")\n"
   ]
  }
 ],
 "metadata": {
  "kernelspec": {
   "display_name": ".venv",
   "language": "python",
   "name": "python3"
  },
  "language_info": {
   "codemirror_mode": {
    "name": "ipython",
    "version": 3
   },
   "file_extension": ".py",
   "mimetype": "text/x-python",
   "name": "python",
   "nbconvert_exporter": "python",
   "pygments_lexer": "ipython3",
   "version": "3.13.1"
  }
 },
 "nbformat": 4,
 "nbformat_minor": 2
}
